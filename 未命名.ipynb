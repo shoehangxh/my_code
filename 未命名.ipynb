{
 "cells": [
  {
   "cell_type": "code",
   "execution_count": 1,
   "id": "cac2a6a0-439f-465e-a868-330f0abb068c",
   "metadata": {},
   "outputs": [],
   "source": [
    "\"\"\"Map letters from string into dictionary & print bar chart of frequency.\"\"\"\n",
    "import sys\n",
    "import pprint\n",
    "from collections import defaultdict"
   ]
  },
  {
   "cell_type": "code",
   "execution_count": 2,
   "id": "e7d2a63b-9ec1-4048-94e6-5b460e97f93a",
   "metadata": {},
   "outputs": [],
   "source": [
    "# Note: text should be a short phrase for bars to fit in IDLE window\n",
    "text = 'Like the castle in its corner in a medieval game, I foresee terrible \\\n",
    "trouble and I stay here just the same.'\n",
    "\n",
    "ALPHABET = 'abcdefghijklmnopqrstuvwxyz'\n",
    "\n",
    "# defaultdict module lets you build dictionary keys on the fly!\n",
    "mapped = defaultdict(list)"
   ]
  },
  {
   "cell_type": "code",
   "execution_count": 11,
   "id": "74f79a35-c757-43a3-8738-444e35ab88cb",
   "metadata": {
    "collapsed": true,
    "jupyter": {
     "outputs_hidden": true
    },
    "tags": []
   },
   "outputs": [
    {
     "name": "stdout",
     "output_type": "stream",
     "text": [
      "l\n",
      "i\n",
      "k\n",
      "e\n",
      " \n",
      "t\n",
      "h\n",
      "e\n",
      " \n",
      "c\n",
      "a\n",
      "s\n",
      "t\n",
      "l\n",
      "e\n",
      " \n",
      "i\n",
      "n\n",
      " \n",
      "i\n",
      "t\n",
      "s\n",
      " \n",
      "c\n",
      "o\n",
      "r\n",
      "n\n",
      "e\n",
      "r\n",
      " \n",
      "i\n",
      "n\n",
      " \n",
      "a\n",
      " \n",
      "m\n",
      "e\n",
      "d\n",
      "i\n",
      "e\n",
      "v\n",
      "a\n",
      "l\n",
      " \n",
      "g\n",
      "a\n",
      "m\n",
      "e\n",
      ",\n",
      " \n",
      "i\n",
      " \n",
      "f\n",
      "o\n",
      "r\n",
      "e\n",
      "s\n",
      "e\n",
      "e\n",
      " \n",
      "t\n",
      "e\n",
      "r\n",
      "r\n",
      "i\n",
      "b\n",
      "l\n",
      "e\n",
      " \n",
      "t\n",
      "r\n",
      "o\n",
      "u\n",
      "b\n",
      "l\n",
      "e\n",
      " \n",
      "a\n",
      "n\n",
      "d\n",
      " \n",
      "i\n",
      " \n",
      "s\n",
      "t\n",
      "a\n",
      "y\n",
      " \n",
      "h\n",
      "e\n",
      "r\n",
      "e\n",
      " \n",
      "j\n",
      "u\n",
      "s\n",
      "t\n",
      " \n",
      "t\n",
      "h\n",
      "e\n",
      " \n",
      "s\n",
      "a\n",
      "m\n",
      "e\n",
      ".\n"
     ]
    }
   ],
   "source": [
    "for character in text:\n",
    "    character = character.lower()\n",
    "    print(character)\n",
    "    if character in ALPHABET:\n",
    "        mapped[character].append(character)"
   ]
  },
  {
   "cell_type": "code",
   "execution_count": 4,
   "id": "bc3dbcdd-eef5-4e53-921c-f5fd51e48469",
   "metadata": {
    "collapsed": true,
    "jupyter": {
     "outputs_hidden": true
    },
    "tags": []
   },
   "outputs": [
    {
     "data": {
      "text/plain": [
       "defaultdict(list,\n",
       "            {'l': ['l', 'l', 'l', 'l', 'l'],\n",
       "             'i': ['i', 'i', 'i', 'i', 'i', 'i', 'i', 'i'],\n",
       "             'k': ['k'],\n",
       "             'e': ['e',\n",
       "              'e',\n",
       "              'e',\n",
       "              'e',\n",
       "              'e',\n",
       "              'e',\n",
       "              'e',\n",
       "              'e',\n",
       "              'e',\n",
       "              'e',\n",
       "              'e',\n",
       "              'e',\n",
       "              'e',\n",
       "              'e',\n",
       "              'e',\n",
       "              'e',\n",
       "              'e'],\n",
       "             't': ['t', 't', 't', 't', 't', 't', 't', 't'],\n",
       "             'h': ['h', 'h', 'h'],\n",
       "             'c': ['c', 'c'],\n",
       "             'a': ['a', 'a', 'a', 'a', 'a', 'a', 'a'],\n",
       "             's': ['s', 's', 's', 's', 's', 's'],\n",
       "             'n': ['n', 'n', 'n', 'n'],\n",
       "             'o': ['o', 'o', 'o'],\n",
       "             'r': ['r', 'r', 'r', 'r', 'r', 'r', 'r'],\n",
       "             'm': ['m', 'm', 'm'],\n",
       "             'd': ['d', 'd'],\n",
       "             'v': ['v'],\n",
       "             'g': ['g'],\n",
       "             'f': ['f'],\n",
       "             'b': ['b', 'b'],\n",
       "             'u': ['u', 'u'],\n",
       "             'y': ['y'],\n",
       "             'j': ['j']})"
      ]
     },
     "execution_count": 4,
     "metadata": {},
     "output_type": "execute_result"
    }
   ],
   "source": [
    "mapped"
   ]
  },
  {
   "cell_type": "code",
   "execution_count": 10,
   "id": "46d5d4b6-b85d-418f-b7f1-bc9e413253d7",
   "metadata": {},
   "outputs": [
    {
     "name": "stdout",
     "output_type": "stream",
     "text": [
      "\n",
      "You may need to stretch console window if text wrapping occurs.\n",
      "\n",
      "text = defaultdict(<class 'list'>,\n",
      "            {'a': ['a', 'a', 'a', 'a', 'a', 'a', 'a'],\n",
      "             'b': ['b', 'b'],\n",
      "             'c': ['c', 'c'],\n",
      "             'd': ['d', 'd'],\n",
      "             'e': ['e', 'e', 'e', 'e', 'e', 'e', 'e', 'e', 'e', 'e', 'e', 'e', 'e', 'e', 'e', 'e', 'e'],\n",
      "             'f': ['f'],\n",
      "             'g': ['g'],\n",
      "             'h': ['h', 'h', 'h'],\n",
      "             'i': ['i', 'i', 'i', 'i', 'i', 'i', 'i', 'i'],\n",
      "             'j': ['j'],\n",
      "             'k': ['k'],\n",
      "             'l': ['l', 'l', 'l', 'l', 'l'],\n",
      "             'm': ['m', 'm', 'm'],\n",
      "             'n': ['n', 'n', 'n', 'n'],\n",
      "             'o': ['o', 'o', 'o'],\n",
      "             'r': ['r', 'r', 'r', 'r', 'r', 'r', 'r'],\n",
      "             's': ['s', 's', 's', 's', 's', 's'],\n",
      "             't': ['t', 't', 't', 't', 't', 't', 't', 't'],\n",
      "             'u': ['u', 'u'],\n",
      "             'v': ['v'],\n",
      "             'y': ['y']})\n"
     ]
    },
    {
     "name": "stderr",
     "output_type": "stream",
     "text": [
      "Like the castle in its corner in a medieval game, I foresee terrible trouble and I stay here just the same.\n",
      "\n"
     ]
    }
   ],
   "source": [
    "# pprint lets you print stacked output\n",
    "print(\"\\nYou may need to stretch console window if text wrapping occurs.\\n\")\n",
    "print(\"text = \"\n",
    "      , end='' #不用转行\n",
    "     )\n",
    "print(\"{}\\n\".format(text), file=sys.stderr)\n",
    "pprint.pprint(mapped, width=110)"
   ]
  },
  {
   "cell_type": "code",
   "execution_count": null,
   "id": "afb58ce1-c2ab-4511-afbd-9cdd97373af5",
   "metadata": {},
   "outputs": [],
   "source": []
  }
 ],
 "metadata": {
  "kernelspec": {
   "display_name": "Python 3",
   "language": "python",
   "name": "python3"
  },
  "language_info": {
   "codemirror_mode": {
    "name": "ipython",
    "version": 3
   },
   "file_extension": ".py",
   "mimetype": "text/x-python",
   "name": "python",
   "nbconvert_exporter": "python",
   "pygments_lexer": "ipython3",
   "version": "3.8.10"
  }
 },
 "nbformat": 4,
 "nbformat_minor": 5
}
